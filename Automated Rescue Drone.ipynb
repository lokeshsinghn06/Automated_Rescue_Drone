{
  "nbformat": 4,
  "nbformat_minor": 0,
  "metadata": {
    "colab": {
      "provenance": []
    },
    "kernelspec": {
      "name": "python3",
      "display_name": "Python 3"
    },
    "language_info": {
      "name": "python"
    }
  },
  "cells": [
    {
      "cell_type": "code",
      "execution_count": null,
      "metadata": {
        "colab": {
          "base_uri": "https://localhost:8080/"
        },
        "id": "OAtxTxNauJgW",
        "outputId": "828f0e6d-0d78-462a-a6e1-661bcd49ea24"
      },
      "outputs": [
        {
          "output_type": "stream",
          "name": "stdout",
          "text": [
            "/bin/bash: line 1: nvidia-smi: command not found\n"
          ]
        }
      ],
      "source": [
        "!nvidia-smi"
      ]
    },
    {
      "cell_type": "code",
      "source": [
        "import os\n",
        "HOME = os.getcwd()\n",
        "print(HOME)"
      ],
      "metadata": {
        "colab": {
          "base_uri": "https://localhost:8080/"
        },
        "id": "hYcUhHlCuFdn",
        "outputId": "eb39cb43-7830-44ef-fe66-3bdc0e04b1ea"
      },
      "execution_count": null,
      "outputs": [
        {
          "output_type": "stream",
          "name": "stdout",
          "text": [
            "/content\n"
          ]
        }
      ]
    },
    {
      "cell_type": "code",
      "source": [
        "!pip install ultralytics"
      ],
      "metadata": {
        "colab": {
          "base_uri": "https://localhost:8080/"
        },
        "id": "HvsEUGExuMMa",
        "outputId": "6f6dffd0-e0e0-4e1c-ba8c-fccf49974f47"
      },
      "execution_count": null,
      "outputs": [
        {
          "output_type": "stream",
          "name": "stdout",
          "text": [
            "Collecting ultralytics\n",
            "  Downloading ultralytics-8.3.70-py3-none-any.whl.metadata (35 kB)\n",
            "Requirement already satisfied: numpy<=2.1.1,>=1.23.0 in /usr/local/lib/python3.11/dist-packages (from ultralytics) (1.26.4)\n",
            "Requirement already satisfied: matplotlib>=3.3.0 in /usr/local/lib/python3.11/dist-packages (from ultralytics) (3.10.0)\n",
            "Requirement already satisfied: opencv-python>=4.6.0 in /usr/local/lib/python3.11/dist-packages (from ultralytics) (4.10.0.84)\n",
            "Requirement already satisfied: pillow>=7.1.2 in /usr/local/lib/python3.11/dist-packages (from ultralytics) (11.1.0)\n",
            "Requirement already satisfied: pyyaml>=5.3.1 in /usr/local/lib/python3.11/dist-packages (from ultralytics) (6.0.2)\n",
            "Requirement already satisfied: requests>=2.23.0 in /usr/local/lib/python3.11/dist-packages (from ultralytics) (2.32.3)\n",
            "Requirement already satisfied: scipy>=1.4.1 in /usr/local/lib/python3.11/dist-packages (from ultralytics) (1.13.1)\n",
            "Requirement already satisfied: torch>=1.8.0 in /usr/local/lib/python3.11/dist-packages (from ultralytics) (2.5.1+cu124)\n",
            "Requirement already satisfied: torchvision>=0.9.0 in /usr/local/lib/python3.11/dist-packages (from ultralytics) (0.20.1+cu124)\n",
            "Requirement already satisfied: tqdm>=4.64.0 in /usr/local/lib/python3.11/dist-packages (from ultralytics) (4.67.1)\n",
            "Requirement already satisfied: psutil in /usr/local/lib/python3.11/dist-packages (from ultralytics) (5.9.5)\n",
            "Requirement already satisfied: py-cpuinfo in /usr/local/lib/python3.11/dist-packages (from ultralytics) (9.0.0)\n",
            "Requirement already satisfied: pandas>=1.1.4 in /usr/local/lib/python3.11/dist-packages (from ultralytics) (2.2.2)\n",
            "Requirement already satisfied: seaborn>=0.11.0 in /usr/local/lib/python3.11/dist-packages (from ultralytics) (0.13.2)\n",
            "Collecting ultralytics-thop>=2.0.0 (from ultralytics)\n",
            "  Downloading ultralytics_thop-2.0.14-py3-none-any.whl.metadata (9.4 kB)\n",
            "Requirement already satisfied: contourpy>=1.0.1 in /usr/local/lib/python3.11/dist-packages (from matplotlib>=3.3.0->ultralytics) (1.3.1)\n",
            "Requirement already satisfied: cycler>=0.10 in /usr/local/lib/python3.11/dist-packages (from matplotlib>=3.3.0->ultralytics) (0.12.1)\n",
            "Requirement already satisfied: fonttools>=4.22.0 in /usr/local/lib/python3.11/dist-packages (from matplotlib>=3.3.0->ultralytics) (4.55.7)\n",
            "Requirement already satisfied: kiwisolver>=1.3.1 in /usr/local/lib/python3.11/dist-packages (from matplotlib>=3.3.0->ultralytics) (1.4.8)\n",
            "Requirement already satisfied: packaging>=20.0 in /usr/local/lib/python3.11/dist-packages (from matplotlib>=3.3.0->ultralytics) (24.2)\n",
            "Requirement already satisfied: pyparsing>=2.3.1 in /usr/local/lib/python3.11/dist-packages (from matplotlib>=3.3.0->ultralytics) (3.2.1)\n",
            "Requirement already satisfied: python-dateutil>=2.7 in /usr/local/lib/python3.11/dist-packages (from matplotlib>=3.3.0->ultralytics) (2.8.2)\n",
            "Requirement already satisfied: pytz>=2020.1 in /usr/local/lib/python3.11/dist-packages (from pandas>=1.1.4->ultralytics) (2024.2)\n",
            "Requirement already satisfied: tzdata>=2022.7 in /usr/local/lib/python3.11/dist-packages (from pandas>=1.1.4->ultralytics) (2025.1)\n",
            "Requirement already satisfied: charset-normalizer<4,>=2 in /usr/local/lib/python3.11/dist-packages (from requests>=2.23.0->ultralytics) (3.4.1)\n",
            "Requirement already satisfied: idna<4,>=2.5 in /usr/local/lib/python3.11/dist-packages (from requests>=2.23.0->ultralytics) (3.10)\n",
            "Requirement already satisfied: urllib3<3,>=1.21.1 in /usr/local/lib/python3.11/dist-packages (from requests>=2.23.0->ultralytics) (2.3.0)\n",
            "Requirement already satisfied: certifi>=2017.4.17 in /usr/local/lib/python3.11/dist-packages (from requests>=2.23.0->ultralytics) (2024.12.14)\n",
            "Requirement already satisfied: filelock in /usr/local/lib/python3.11/dist-packages (from torch>=1.8.0->ultralytics) (3.17.0)\n",
            "Requirement already satisfied: typing-extensions>=4.8.0 in /usr/local/lib/python3.11/dist-packages (from torch>=1.8.0->ultralytics) (4.12.2)\n",
            "Requirement already satisfied: networkx in /usr/local/lib/python3.11/dist-packages (from torch>=1.8.0->ultralytics) (3.4.2)\n",
            "Requirement already satisfied: jinja2 in /usr/local/lib/python3.11/dist-packages (from torch>=1.8.0->ultralytics) (3.1.5)\n",
            "Requirement already satisfied: fsspec in /usr/local/lib/python3.11/dist-packages (from torch>=1.8.0->ultralytics) (2024.10.0)\n",
            "Collecting nvidia-cuda-nvrtc-cu12==12.4.127 (from torch>=1.8.0->ultralytics)\n",
            "  Downloading nvidia_cuda_nvrtc_cu12-12.4.127-py3-none-manylinux2014_x86_64.whl.metadata (1.5 kB)\n",
            "Collecting nvidia-cuda-runtime-cu12==12.4.127 (from torch>=1.8.0->ultralytics)\n",
            "  Downloading nvidia_cuda_runtime_cu12-12.4.127-py3-none-manylinux2014_x86_64.whl.metadata (1.5 kB)\n",
            "Collecting nvidia-cuda-cupti-cu12==12.4.127 (from torch>=1.8.0->ultralytics)\n",
            "  Downloading nvidia_cuda_cupti_cu12-12.4.127-py3-none-manylinux2014_x86_64.whl.metadata (1.6 kB)\n",
            "Collecting nvidia-cudnn-cu12==9.1.0.70 (from torch>=1.8.0->ultralytics)\n",
            "  Downloading nvidia_cudnn_cu12-9.1.0.70-py3-none-manylinux2014_x86_64.whl.metadata (1.6 kB)\n",
            "Collecting nvidia-cublas-cu12==12.4.5.8 (from torch>=1.8.0->ultralytics)\n",
            "  Downloading nvidia_cublas_cu12-12.4.5.8-py3-none-manylinux2014_x86_64.whl.metadata (1.5 kB)\n",
            "Collecting nvidia-cufft-cu12==11.2.1.3 (from torch>=1.8.0->ultralytics)\n",
            "  Downloading nvidia_cufft_cu12-11.2.1.3-py3-none-manylinux2014_x86_64.whl.metadata (1.5 kB)\n",
            "Collecting nvidia-curand-cu12==10.3.5.147 (from torch>=1.8.0->ultralytics)\n",
            "  Downloading nvidia_curand_cu12-10.3.5.147-py3-none-manylinux2014_x86_64.whl.metadata (1.5 kB)\n",
            "Collecting nvidia-cusolver-cu12==11.6.1.9 (from torch>=1.8.0->ultralytics)\n",
            "  Downloading nvidia_cusolver_cu12-11.6.1.9-py3-none-manylinux2014_x86_64.whl.metadata (1.6 kB)\n",
            "Collecting nvidia-cusparse-cu12==12.3.1.170 (from torch>=1.8.0->ultralytics)\n",
            "  Downloading nvidia_cusparse_cu12-12.3.1.170-py3-none-manylinux2014_x86_64.whl.metadata (1.6 kB)\n",
            "Requirement already satisfied: nvidia-nccl-cu12==2.21.5 in /usr/local/lib/python3.11/dist-packages (from torch>=1.8.0->ultralytics) (2.21.5)\n",
            "Requirement already satisfied: nvidia-nvtx-cu12==12.4.127 in /usr/local/lib/python3.11/dist-packages (from torch>=1.8.0->ultralytics) (12.4.127)\n",
            "Collecting nvidia-nvjitlink-cu12==12.4.127 (from torch>=1.8.0->ultralytics)\n",
            "  Downloading nvidia_nvjitlink_cu12-12.4.127-py3-none-manylinux2014_x86_64.whl.metadata (1.5 kB)\n",
            "Requirement already satisfied: triton==3.1.0 in /usr/local/lib/python3.11/dist-packages (from torch>=1.8.0->ultralytics) (3.1.0)\n",
            "Requirement already satisfied: sympy==1.13.1 in /usr/local/lib/python3.11/dist-packages (from torch>=1.8.0->ultralytics) (1.13.1)\n",
            "Requirement already satisfied: mpmath<1.4,>=1.1.0 in /usr/local/lib/python3.11/dist-packages (from sympy==1.13.1->torch>=1.8.0->ultralytics) (1.3.0)\n",
            "Requirement already satisfied: six>=1.5 in /usr/local/lib/python3.11/dist-packages (from python-dateutil>=2.7->matplotlib>=3.3.0->ultralytics) (1.17.0)\n",
            "Requirement already satisfied: MarkupSafe>=2.0 in /usr/local/lib/python3.11/dist-packages (from jinja2->torch>=1.8.0->ultralytics) (3.0.2)\n",
            "Downloading ultralytics-8.3.70-py3-none-any.whl (914 kB)\n",
            "\u001b[2K   \u001b[90m━━━━━━━━━━━━━━━━━━━━━━━━━━━━━━━━━━━━━━━━\u001b[0m \u001b[32m914.9/914.9 kB\u001b[0m \u001b[31m35.9 MB/s\u001b[0m eta \u001b[36m0:00:00\u001b[0m\n",
            "\u001b[?25hDownloading nvidia_cublas_cu12-12.4.5.8-py3-none-manylinux2014_x86_64.whl (363.4 MB)\n",
            "\u001b[2K   \u001b[90m━━━━━━━━━━━━━━━━━━━━━━━━━━━━━━━━━━━━━━━━\u001b[0m \u001b[32m363.4/363.4 MB\u001b[0m \u001b[31m4.5 MB/s\u001b[0m eta \u001b[36m0:00:00\u001b[0m\n",
            "\u001b[?25hDownloading nvidia_cuda_cupti_cu12-12.4.127-py3-none-manylinux2014_x86_64.whl (13.8 MB)\n",
            "\u001b[2K   \u001b[90m━━━━━━━━━━━━━━━━━━━━━━━━━━━━━━━━━━━━━━━━\u001b[0m \u001b[32m13.8/13.8 MB\u001b[0m \u001b[31m92.4 MB/s\u001b[0m eta \u001b[36m0:00:00\u001b[0m\n",
            "\u001b[?25hDownloading nvidia_cuda_nvrtc_cu12-12.4.127-py3-none-manylinux2014_x86_64.whl (24.6 MB)\n",
            "\u001b[2K   \u001b[90m━━━━━━━━━━━━━━━━━━━━━━━━━━━━━━━━━━━━━━━━\u001b[0m \u001b[32m24.6/24.6 MB\u001b[0m \u001b[31m73.9 MB/s\u001b[0m eta \u001b[36m0:00:00\u001b[0m\n",
            "\u001b[?25hDownloading nvidia_cuda_runtime_cu12-12.4.127-py3-none-manylinux2014_x86_64.whl (883 kB)\n",
            "\u001b[2K   \u001b[90m━━━━━━━━━━━━━━━━━━━━━━━━━━━━━━━━━━━━━━━━\u001b[0m \u001b[32m883.7/883.7 kB\u001b[0m \u001b[31m53.0 MB/s\u001b[0m eta \u001b[36m0:00:00\u001b[0m\n",
            "\u001b[?25hDownloading nvidia_cudnn_cu12-9.1.0.70-py3-none-manylinux2014_x86_64.whl (664.8 MB)\n",
            "\u001b[2K   \u001b[90m━━━━━━━━━━━━━━━━━━━━━━━━━━━━━━━━━━━━━━━━\u001b[0m \u001b[32m664.8/664.8 MB\u001b[0m \u001b[31m2.1 MB/s\u001b[0m eta \u001b[36m0:00:00\u001b[0m\n",
            "\u001b[?25hDownloading nvidia_cufft_cu12-11.2.1.3-py3-none-manylinux2014_x86_64.whl (211.5 MB)\n",
            "\u001b[2K   \u001b[90m━━━━━━━━━━━━━━━━━━━━━━━━━━━━━━━━━━━━━━━━\u001b[0m \u001b[32m211.5/211.5 MB\u001b[0m \u001b[31m5.7 MB/s\u001b[0m eta \u001b[36m0:00:00\u001b[0m\n",
            "\u001b[?25hDownloading nvidia_curand_cu12-10.3.5.147-py3-none-manylinux2014_x86_64.whl (56.3 MB)\n",
            "\u001b[2K   \u001b[90m━━━━━━━━━━━━━━━━━━━━━━━━━━━━━━━━━━━━━━━━\u001b[0m \u001b[32m56.3/56.3 MB\u001b[0m \u001b[31m11.0 MB/s\u001b[0m eta \u001b[36m0:00:00\u001b[0m\n",
            "\u001b[?25hDownloading nvidia_cusolver_cu12-11.6.1.9-py3-none-manylinux2014_x86_64.whl (127.9 MB)\n",
            "\u001b[2K   \u001b[90m━━━━━━━━━━━━━━━━━━━━━━━━━━━━━━━━━━━━━━━━\u001b[0m \u001b[32m127.9/127.9 MB\u001b[0m \u001b[31m7.7 MB/s\u001b[0m eta \u001b[36m0:00:00\u001b[0m\n",
            "\u001b[?25hDownloading nvidia_cusparse_cu12-12.3.1.170-py3-none-manylinux2014_x86_64.whl (207.5 MB)\n",
            "\u001b[2K   \u001b[90m━━━━━━━━━━━━━━━━━━━━━━━━━━━━━━━━━━━━━━━━\u001b[0m \u001b[32m207.5/207.5 MB\u001b[0m \u001b[31m6.1 MB/s\u001b[0m eta \u001b[36m0:00:00\u001b[0m\n",
            "\u001b[?25hDownloading nvidia_nvjitlink_cu12-12.4.127-py3-none-manylinux2014_x86_64.whl (21.1 MB)\n",
            "\u001b[2K   \u001b[90m━━━━━━━━━━━━━━━━━━━━━━━━━━━━━━━━━━━━━━━━\u001b[0m \u001b[32m21.1/21.1 MB\u001b[0m \u001b[31m72.6 MB/s\u001b[0m eta \u001b[36m0:00:00\u001b[0m\n",
            "\u001b[?25hDownloading ultralytics_thop-2.0.14-py3-none-any.whl (26 kB)\n",
            "Installing collected packages: nvidia-nvjitlink-cu12, nvidia-curand-cu12, nvidia-cufft-cu12, nvidia-cuda-runtime-cu12, nvidia-cuda-nvrtc-cu12, nvidia-cuda-cupti-cu12, nvidia-cublas-cu12, nvidia-cusparse-cu12, nvidia-cudnn-cu12, nvidia-cusolver-cu12, ultralytics-thop, ultralytics\n",
            "  Attempting uninstall: nvidia-nvjitlink-cu12\n",
            "    Found existing installation: nvidia-nvjitlink-cu12 12.5.82\n",
            "    Uninstalling nvidia-nvjitlink-cu12-12.5.82:\n",
            "      Successfully uninstalled nvidia-nvjitlink-cu12-12.5.82\n",
            "  Attempting uninstall: nvidia-curand-cu12\n",
            "    Found existing installation: nvidia-curand-cu12 10.3.6.82\n",
            "    Uninstalling nvidia-curand-cu12-10.3.6.82:\n",
            "      Successfully uninstalled nvidia-curand-cu12-10.3.6.82\n",
            "  Attempting uninstall: nvidia-cufft-cu12\n",
            "    Found existing installation: nvidia-cufft-cu12 11.2.3.61\n",
            "    Uninstalling nvidia-cufft-cu12-11.2.3.61:\n",
            "      Successfully uninstalled nvidia-cufft-cu12-11.2.3.61\n",
            "  Attempting uninstall: nvidia-cuda-runtime-cu12\n",
            "    Found existing installation: nvidia-cuda-runtime-cu12 12.5.82\n",
            "    Uninstalling nvidia-cuda-runtime-cu12-12.5.82:\n",
            "      Successfully uninstalled nvidia-cuda-runtime-cu12-12.5.82\n",
            "  Attempting uninstall: nvidia-cuda-nvrtc-cu12\n",
            "    Found existing installation: nvidia-cuda-nvrtc-cu12 12.5.82\n",
            "    Uninstalling nvidia-cuda-nvrtc-cu12-12.5.82:\n",
            "      Successfully uninstalled nvidia-cuda-nvrtc-cu12-12.5.82\n",
            "  Attempting uninstall: nvidia-cuda-cupti-cu12\n",
            "    Found existing installation: nvidia-cuda-cupti-cu12 12.5.82\n",
            "    Uninstalling nvidia-cuda-cupti-cu12-12.5.82:\n",
            "      Successfully uninstalled nvidia-cuda-cupti-cu12-12.5.82\n",
            "  Attempting uninstall: nvidia-cublas-cu12\n",
            "    Found existing installation: nvidia-cublas-cu12 12.5.3.2\n",
            "    Uninstalling nvidia-cublas-cu12-12.5.3.2:\n",
            "      Successfully uninstalled nvidia-cublas-cu12-12.5.3.2\n",
            "  Attempting uninstall: nvidia-cusparse-cu12\n",
            "    Found existing installation: nvidia-cusparse-cu12 12.5.1.3\n",
            "    Uninstalling nvidia-cusparse-cu12-12.5.1.3:\n",
            "      Successfully uninstalled nvidia-cusparse-cu12-12.5.1.3\n",
            "  Attempting uninstall: nvidia-cudnn-cu12\n",
            "    Found existing installation: nvidia-cudnn-cu12 9.3.0.75\n",
            "    Uninstalling nvidia-cudnn-cu12-9.3.0.75:\n",
            "      Successfully uninstalled nvidia-cudnn-cu12-9.3.0.75\n",
            "  Attempting uninstall: nvidia-cusolver-cu12\n",
            "    Found existing installation: nvidia-cusolver-cu12 11.6.3.83\n",
            "    Uninstalling nvidia-cusolver-cu12-11.6.3.83:\n",
            "      Successfully uninstalled nvidia-cusolver-cu12-11.6.3.83\n",
            "Successfully installed nvidia-cublas-cu12-12.4.5.8 nvidia-cuda-cupti-cu12-12.4.127 nvidia-cuda-nvrtc-cu12-12.4.127 nvidia-cuda-runtime-cu12-12.4.127 nvidia-cudnn-cu12-9.1.0.70 nvidia-cufft-cu12-11.2.1.3 nvidia-curand-cu12-10.3.5.147 nvidia-cusolver-cu12-11.6.1.9 nvidia-cusparse-cu12-12.3.1.170 nvidia-nvjitlink-cu12-12.4.127 ultralytics-8.3.70 ultralytics-thop-2.0.14\n"
          ]
        }
      ]
    },
    {
      "cell_type": "code",
      "source": [
        "from IPython import display\n",
        "display.clear_output()\n",
        "\n",
        "import ultralytics\n",
        "ultralytics.checks()"
      ],
      "metadata": {
        "colab": {
          "base_uri": "https://localhost:8080/"
        },
        "id": "9GI3HrEjuQCD",
        "outputId": "9f9a1400-2427-4a6f-a897-fbd1a70b8be7"
      },
      "execution_count": null,
      "outputs": [
        {
          "output_type": "stream",
          "name": "stdout",
          "text": [
            "Ultralytics 8.3.70 🚀 Python-3.11.11 torch-2.5.1+cu124 CPU (Intel Xeon 2.20GHz)\n",
            "Setup complete ✅ (2 CPUs, 12.7 GB RAM, 33.0/107.7 GB disk)\n"
          ]
        }
      ]
    },
    {
      "cell_type": "code",
      "source": [
        "from ultralytics import YOLO\n",
        "\n",
        "from IPython.display import display, Image"
      ],
      "metadata": {
        "id": "fNmUwpAKuZjm"
      },
      "execution_count": null,
      "outputs": []
    },
    {
      "cell_type": "code",
      "source": [
        "\n",
        "from google.colab import drive\n",
        "drive.mount('/content/drive')"
      ],
      "metadata": {
        "colab": {
          "base_uri": "https://localhost:8080/"
        },
        "id": "QsZJAbA0ufrs",
        "outputId": "63e5fc71-3473-47ad-9040-df4bb7a68afe"
      },
      "execution_count": null,
      "outputs": [
        {
          "output_type": "stream",
          "name": "stdout",
          "text": [
            "Drive already mounted at /content/drive; to attempt to forcibly remount, call drive.mount(\"/content/drive\", force_remount=True).\n"
          ]
        }
      ]
    },
    {
      "cell_type": "code",
      "source": [
        "%cd /content/drive/MyDrive/FLIR-DATASET"
      ],
      "metadata": {
        "colab": {
          "base_uri": "https://localhost:8080/"
        },
        "id": "X4QWQKnou8I8",
        "outputId": "14858677-827a-4487-e4fe-c73fd6d6c593"
      },
      "execution_count": null,
      "outputs": [
        {
          "output_type": "stream",
          "name": "stdout",
          "text": [
            "/content/drive/MyDrive/FLIR-DATASET\n"
          ]
        }
      ]
    },
    {
      "cell_type": "code",
      "source": [
        "%cd /content/drive/MyDrive/FLIR-DATASET\n",
        "!yolo task=detect mode=train model=yolov8s.pt data= data.yaml epochs=25 imgsz=640 plots=True"
      ],
      "metadata": {
        "id": "LEcpqaAQu-2d",
        "outputId": "53580c55-01cd-4e16-cedf-59d2ccaf8362",
        "colab": {
          "base_uri": "https://localhost:8080/"
        }
      },
      "execution_count": null,
      "outputs": [
        {
          "output_type": "stream",
          "name": "stdout",
          "text": [
            "/content/drive/MyDrive/FLIR-DATASET\n",
            "Downloading https://github.com/ultralytics/assets/releases/download/v8.3.0/yolov8s.pt to 'yolov8s.pt'...\n",
            "100% 21.5M/21.5M [00:00<00:00, 102MB/s]\n",
            "Ultralytics 8.3.69 🚀 Python-3.11.11 torch-2.5.1+cu121 CUDA:0 (Tesla T4, 15102MiB)\n",
            "\u001b[34m\u001b[1mengine/trainer: \u001b[0mtask=detect, mode=train, model=yolov8s.pt, data=data.yaml, epochs=25, time=None, patience=100, batch=16, imgsz=640, save=True, save_period=-1, cache=False, device=None, workers=8, project=None, name=train, exist_ok=False, pretrained=True, optimizer=auto, verbose=True, seed=0, deterministic=True, single_cls=False, rect=False, cos_lr=False, close_mosaic=10, resume=False, amp=True, fraction=1.0, profile=False, freeze=None, multi_scale=False, overlap_mask=True, mask_ratio=4, dropout=0.0, val=True, split=val, save_json=False, save_hybrid=False, conf=None, iou=0.7, max_det=300, half=False, dnn=False, plots=True, source=None, vid_stride=1, stream_buffer=False, visualize=False, augment=False, agnostic_nms=False, classes=None, retina_masks=False, embed=None, show=False, save_frames=False, save_txt=False, save_conf=False, save_crop=False, show_labels=True, show_conf=True, show_boxes=True, line_width=None, format=torchscript, keras=False, optimize=False, int8=False, dynamic=False, simplify=True, opset=None, workspace=None, nms=False, lr0=0.01, lrf=0.01, momentum=0.937, weight_decay=0.0005, warmup_epochs=3.0, warmup_momentum=0.8, warmup_bias_lr=0.1, box=7.5, cls=0.5, dfl=1.5, pose=12.0, kobj=1.0, nbs=64, hsv_h=0.015, hsv_s=0.7, hsv_v=0.4, degrees=0.0, translate=0.1, scale=0.5, shear=0.0, perspective=0.0, flipud=0.0, fliplr=0.5, bgr=0.0, mosaic=1.0, mixup=0.0, copy_paste=0.0, copy_paste_mode=flip, auto_augment=randaugment, erasing=0.4, crop_fraction=1.0, cfg=None, tracker=botsort.yaml, save_dir=runs/detect/train\n",
            "Downloading https://ultralytics.com/assets/Arial.ttf to '/root/.config/Ultralytics/Arial.ttf'...\n",
            "100% 755k/755k [00:00<00:00, 39.3MB/s]\n",
            "Overriding model.yaml nc=80 with nc=81\n",
            "\n",
            "                   from  n    params  module                                       arguments                     \n",
            "  0                  -1  1       928  ultralytics.nn.modules.conv.Conv             [3, 32, 3, 2]                 \n",
            "  1                  -1  1     18560  ultralytics.nn.modules.conv.Conv             [32, 64, 3, 2]                \n",
            "  2                  -1  1     29056  ultralytics.nn.modules.block.C2f             [64, 64, 1, True]             \n",
            "  3                  -1  1     73984  ultralytics.nn.modules.conv.Conv             [64, 128, 3, 2]               \n",
            "  4                  -1  2    197632  ultralytics.nn.modules.block.C2f             [128, 128, 2, True]           \n",
            "  5                  -1  1    295424  ultralytics.nn.modules.conv.Conv             [128, 256, 3, 2]              \n",
            "  6                  -1  2    788480  ultralytics.nn.modules.block.C2f             [256, 256, 2, True]           \n",
            "  7                  -1  1   1180672  ultralytics.nn.modules.conv.Conv             [256, 512, 3, 2]              \n",
            "  8                  -1  1   1838080  ultralytics.nn.modules.block.C2f             [512, 512, 1, True]           \n",
            "  9                  -1  1    656896  ultralytics.nn.modules.block.SPPF            [512, 512, 5]                 \n",
            " 10                  -1  1         0  torch.nn.modules.upsampling.Upsample         [None, 2, 'nearest']          \n",
            " 11             [-1, 6]  1         0  ultralytics.nn.modules.conv.Concat           [1]                           \n",
            " 12                  -1  1    591360  ultralytics.nn.modules.block.C2f             [768, 256, 1]                 \n",
            " 13                  -1  1         0  torch.nn.modules.upsampling.Upsample         [None, 2, 'nearest']          \n",
            " 14             [-1, 4]  1         0  ultralytics.nn.modules.conv.Concat           [1]                           \n",
            " 15                  -1  1    148224  ultralytics.nn.modules.block.C2f             [384, 128, 1]                 \n",
            " 16                  -1  1    147712  ultralytics.nn.modules.conv.Conv             [128, 128, 3, 2]              \n",
            " 17            [-1, 12]  1         0  ultralytics.nn.modules.conv.Concat           [1]                           \n",
            " 18                  -1  1    493056  ultralytics.nn.modules.block.C2f             [384, 256, 1]                 \n",
            " 19                  -1  1    590336  ultralytics.nn.modules.conv.Conv             [256, 256, 3, 2]              \n",
            " 20             [-1, 9]  1         0  ultralytics.nn.modules.conv.Concat           [1]                           \n",
            " 21                  -1  1   1969152  ultralytics.nn.modules.block.C2f             [768, 512, 1]                 \n",
            " 22        [15, 18, 21]  1   2147395  ultralytics.nn.modules.head.Detect           [81, [128, 256, 512]]         \n",
            "Model summary: 225 layers, 11,166,947 parameters, 11,166,931 gradients, 28.8 GFLOPs\n",
            "\n",
            "Transferred 349/355 items from pretrained weights\n",
            "\u001b[34m\u001b[1mTensorBoard: \u001b[0mStart with 'tensorboard --logdir runs/detect/train', view at http://localhost:6006/\n",
            "Freezing layer 'model.22.dfl.conv.weight'\n",
            "\u001b[34m\u001b[1mAMP: \u001b[0mrunning Automatic Mixed Precision (AMP) checks...\n",
            "Downloading https://github.com/ultralytics/assets/releases/download/v8.3.0/yolo11n.pt to 'yolo11n.pt'...\n",
            "100% 5.35M/5.35M [00:00<00:00, 142MB/s]\n",
            "\u001b[34m\u001b[1mAMP: \u001b[0mchecks passed ✅\n",
            "\u001b[34m\u001b[1mtrain: \u001b[0mScanning /content/drive/MyDrive/FLIR-DATASET/train/labels... 8862 images, 1031 backgrounds, 0 corrupt: 100% 8891/8891 [1:23:17<00:00,  1.78it/s]\n",
            "\u001b[34m\u001b[1mtrain: \u001b[0mWARNING ⚠️ /content/drive/MyDrive/FLIR-DATASET/train/images/FLIR_05639.jpeg: 1 duplicate labels removed\n",
            "\u001b[34m\u001b[1mtrain: \u001b[0mWARNING ⚠️ /content/drive/MyDrive/FLIR-DATASET/train/images/FLIR_05812.jpeg: 1 duplicate labels removed\n",
            "\u001b[34m\u001b[1mtrain: \u001b[0mWARNING ⚠️ /content/drive/MyDrive/FLIR-DATASET/train/images/FLIR_07226.jpeg: 1 duplicate labels removed\n",
            "\u001b[34m\u001b[1mtrain: \u001b[0mWARNING ⚠️ /content/drive/MyDrive/FLIR-DATASET/train/images/FLIR_07525.jpeg: 1 duplicate labels removed\n",
            "\u001b[34m\u001b[1mtrain: \u001b[0mNew cache created: /content/drive/MyDrive/FLIR-DATASET/train/labels.cache\n",
            "/usr/local/lib/python3.11/dist-packages/albumentations/__init__.py:24: UserWarning: A new version of Albumentations is available: 2.0.2 (you have 1.4.20). Upgrade using: pip install -U albumentations. To disable automatic update checks, set the environment variable NO_ALBUMENTATIONS_UPDATE to 1.\n",
            "  check_for_updates()\n",
            "\u001b[34m\u001b[1malbumentations: \u001b[0mBlur(p=0.01, blur_limit=(3, 7)), MedianBlur(p=0.01, blur_limit=(3, 7)), ToGray(p=0.01, num_output_channels=3, method='weighted_average'), CLAHE(p=0.01, clip_limit=(1.0, 4.0), tile_grid_size=(8, 8))\n",
            "\u001b[34m\u001b[1mval: \u001b[0mScanning /content/drive/MyDrive/FLIR-DATASET/val/labels... 1366 images, 6 backgrounds, 0 corrupt: 100% 1366/1366 [14:29<00:00,  1.57it/s]\n",
            "\u001b[34m\u001b[1mval: \u001b[0mWARNING ⚠️ /content/drive/MyDrive/FLIR-DATASET/val/images/FLIR_09042.jpeg: 1 duplicate labels removed\n",
            "\u001b[34m\u001b[1mval: \u001b[0mWARNING ⚠️ /content/drive/MyDrive/FLIR-DATASET/val/images/FLIR_09055.jpeg: 1 duplicate labels removed\n",
            "\u001b[34m\u001b[1mval: \u001b[0mWARNING ⚠️ /content/drive/MyDrive/FLIR-DATASET/val/images/FLIR_09653.jpeg: 1 duplicate labels removed\n",
            "\u001b[34m\u001b[1mval: \u001b[0mNew cache created: /content/drive/MyDrive/FLIR-DATASET/val/labels.cache\n",
            "Plotting labels to runs/detect/train/labels.jpg... \n",
            "\u001b[34m\u001b[1moptimizer:\u001b[0m 'optimizer=auto' found, ignoring 'lr0=0.01' and 'momentum=0.937' and determining best 'optimizer', 'lr0' and 'momentum' automatically... \n",
            "\u001b[34m\u001b[1moptimizer:\u001b[0m AdamW(lr=0.000118, momentum=0.9) with parameter groups 57 weight(decay=0.0), 64 weight(decay=0.0005), 63 bias(decay=0.0)\n",
            "\u001b[34m\u001b[1mTensorBoard: \u001b[0mmodel graph visualization added ✅\n",
            "Image sizes 640 train, 640 val\n",
            "Using 2 dataloader workers\n",
            "Logging results to \u001b[1mruns/detect/train\u001b[0m\n",
            "Starting training for 25 epochs...\n",
            "\n",
            "      Epoch    GPU_mem   box_loss   cls_loss   dfl_loss  Instances       Size\n",
            "       1/25      4.42G      1.496      1.602      1.121        199        640: 100% 556/556 [04:35<00:00,  2.02it/s]\n",
            "                 Class     Images  Instances      Box(P          R      mAP50  mAP50-95): 100% 43/43 [00:25<00:00,  1.68it/s]\n",
            "                   all       1366      11693      0.661      0.566      0.622       0.35\n",
            "\n",
            "      Epoch    GPU_mem   box_loss   cls_loss   dfl_loss  Instances       Size\n",
            "       2/25      4.39G      1.368     0.8613      1.049        134        640: 100% 556/556 [04:23<00:00,  2.11it/s]\n",
            "                 Class     Images  Instances      Box(P          R      mAP50  mAP50-95): 100% 43/43 [00:22<00:00,  1.93it/s]\n",
            "                   all       1366      11693      0.578      0.529      0.579      0.325\n",
            "\n",
            "      Epoch    GPU_mem   box_loss   cls_loss   dfl_loss  Instances       Size\n",
            "       3/25      4.26G      1.332     0.7881      1.032         94        640: 100% 556/556 [04:19<00:00,  2.14it/s]\n",
            "                 Class     Images  Instances      Box(P          R      mAP50  mAP50-95): 100% 43/43 [00:21<00:00,  1.97it/s]\n",
            "                   all       1366      11693      0.592      0.539      0.594      0.334\n",
            "\n",
            "      Epoch    GPU_mem   box_loss   cls_loss   dfl_loss  Instances       Size\n",
            "       4/25      4.42G      1.313     0.7504      1.024        157        640: 100% 556/556 [04:20<00:00,  2.14it/s]\n",
            "                 Class     Images  Instances      Box(P          R      mAP50  mAP50-95): 100% 43/43 [00:21<00:00,  1.96it/s]\n",
            "                   all       1366      11693      0.566      0.598       0.61       0.34\n",
            "\n",
            "      Epoch    GPU_mem   box_loss   cls_loss   dfl_loss  Instances       Size\n",
            "       5/25      4.24G      1.296      0.728      1.017        129        640: 100% 556/556 [04:22<00:00,  2.12it/s]\n",
            "                 Class     Images  Instances      Box(P          R      mAP50  mAP50-95): 100% 43/43 [00:22<00:00,  1.94it/s]\n",
            "                   all       1366      11693      0.595      0.551      0.606      0.336\n",
            "\n",
            "      Epoch    GPU_mem   box_loss   cls_loss   dfl_loss  Instances       Size\n",
            "       6/25      4.24G      1.278     0.7131      1.009        191        640: 100% 556/556 [04:24<00:00,  2.11it/s]\n",
            "                 Class     Images  Instances      Box(P          R      mAP50  mAP50-95): 100% 43/43 [00:21<00:00,  2.01it/s]\n",
            "                   all       1366      11693      0.598       0.54      0.592      0.331\n",
            "\n",
            "      Epoch    GPU_mem   box_loss   cls_loss   dfl_loss  Instances       Size\n",
            "       7/25      4.21G      1.269      0.697      1.004         76        640: 100% 556/556 [04:18<00:00,  2.16it/s]\n",
            "                 Class     Images  Instances      Box(P          R      mAP50  mAP50-95): 100% 43/43 [00:22<00:00,  1.94it/s]\n",
            "                   all       1366      11693      0.601      0.536      0.593      0.331\n",
            "\n",
            "      Epoch    GPU_mem   box_loss   cls_loss   dfl_loss  Instances       Size\n",
            "       8/25      4.11G       1.26     0.6844     0.9987        158        640: 100% 556/556 [04:14<00:00,  2.18it/s]\n",
            "                 Class     Images  Instances      Box(P          R      mAP50  mAP50-95): 100% 43/43 [00:23<00:00,  1.83it/s]\n",
            "                   all       1366      11693      0.609      0.549      0.603       0.34\n",
            "\n",
            "      Epoch    GPU_mem   box_loss   cls_loss   dfl_loss  Instances       Size\n",
            "       9/25      4.32G      1.248     0.6718      0.997         98        640: 100% 556/556 [04:13<00:00,  2.19it/s]\n",
            "                 Class     Images  Instances      Box(P          R      mAP50  mAP50-95): 100% 43/43 [00:21<00:00,  1.98it/s]\n",
            "                   all       1366      11693      0.566       0.67      0.625      0.339\n",
            "\n",
            "      Epoch    GPU_mem   box_loss   cls_loss   dfl_loss  Instances       Size\n",
            "      10/25      4.15G      1.235      0.664     0.9917        141        640: 100% 556/556 [04:17<00:00,  2.16it/s]\n",
            "                 Class     Images  Instances      Box(P          R      mAP50  mAP50-95): 100% 43/43 [00:21<00:00,  2.01it/s]\n",
            "                   all       1366      11693      0.868      0.535      0.602       0.33\n",
            "\n",
            "      Epoch    GPU_mem   box_loss   cls_loss   dfl_loss  Instances       Size\n",
            "      11/25      4.29G       1.24     0.6606     0.9921        144        640: 100% 556/556 [04:18<00:00,  2.15it/s]\n",
            "                 Class     Images  Instances      Box(P          R      mAP50  mAP50-95): 100% 43/43 [00:20<00:00,  2.05it/s]\n",
            "                   all       1366      11693      0.604      0.551      0.608      0.332\n",
            "\n",
            "      Epoch    GPU_mem   box_loss   cls_loss   dfl_loss  Instances       Size\n",
            "      12/25      4.27G      1.227     0.6513     0.9869        176        640: 100% 556/556 [04:20<00:00,  2.14it/s]\n",
            "                 Class     Images  Instances      Box(P          R      mAP50  mAP50-95): 100% 43/43 [00:22<00:00,  1.92it/s]\n",
            "                   all       1366      11693      0.611      0.543      0.606      0.334\n",
            "\n",
            "      Epoch    GPU_mem   box_loss   cls_loss   dfl_loss  Instances       Size\n",
            "      13/25      4.77G      1.221      0.647     0.9867        157        640: 100% 556/556 [04:24<00:00,  2.10it/s]\n",
            "                 Class     Images  Instances      Box(P          R      mAP50  mAP50-95): 100% 43/43 [00:21<00:00,  2.03it/s]\n",
            "                   all       1366      11693      0.603       0.55      0.601      0.335\n",
            "\n",
            "      Epoch    GPU_mem   box_loss   cls_loss   dfl_loss  Instances       Size\n",
            "      14/25      4.61G      1.216     0.6386     0.9835        109        640: 100% 556/556 [04:24<00:00,  2.10it/s]\n",
            "                 Class     Images  Instances      Box(P          R      mAP50  mAP50-95): 100% 43/43 [00:21<00:00,  1.99it/s]\n",
            "                   all       1366      11693      0.613      0.547      0.605      0.337\n",
            "\n",
            "      Epoch    GPU_mem   box_loss   cls_loss   dfl_loss  Instances       Size\n",
            "      15/25      4.37G      1.211     0.6324     0.9799        133        640: 100% 556/556 [04:19<00:00,  2.14it/s]\n",
            "                 Class     Images  Instances      Box(P          R      mAP50  mAP50-95): 100% 43/43 [00:21<00:00,  1.96it/s]\n",
            "                   all       1366      11693      0.604      0.547      0.614      0.337\n",
            "Closing dataloader mosaic\n",
            "\u001b[34m\u001b[1malbumentations: \u001b[0mBlur(p=0.01, blur_limit=(3, 7)), MedianBlur(p=0.01, blur_limit=(3, 7)), ToGray(p=0.01, num_output_channels=3, method='weighted_average'), CLAHE(p=0.01, clip_limit=(1.0, 4.0), tile_grid_size=(8, 8))\n",
            "\n",
            "      Epoch    GPU_mem   box_loss   cls_loss   dfl_loss  Instances       Size\n",
            "      16/25      4.15G      1.228     0.6216     0.9829         64        640: 100% 556/556 [04:11<00:00,  2.21it/s]\n",
            "                 Class     Images  Instances      Box(P          R      mAP50  mAP50-95): 100% 43/43 [00:21<00:00,  2.03it/s]\n",
            "                   all       1366      11693      0.599      0.542       0.59      0.324\n",
            "\n",
            "      Epoch    GPU_mem   box_loss   cls_loss   dfl_loss  Instances       Size\n",
            "      17/25      4.14G      1.219     0.6121     0.9798         88        640: 100% 556/556 [04:10<00:00,  2.22it/s]\n",
            "                 Class     Images  Instances      Box(P          R      mAP50  mAP50-95): 100% 43/43 [00:21<00:00,  1.99it/s]\n",
            "                   all       1366      11693      0.852      0.561      0.608      0.339\n",
            "\n",
            "      Epoch    GPU_mem   box_loss   cls_loss   dfl_loss  Instances       Size\n",
            "      18/25      4.18G      1.212     0.6052     0.9781         96        640: 100% 556/556 [04:09<00:00,  2.23it/s]\n",
            "                 Class     Images  Instances      Box(P          R      mAP50  mAP50-95): 100% 43/43 [00:21<00:00,  1.97it/s]\n",
            "                   all       1366      11693      0.606      0.552      0.602      0.331\n",
            "\n",
            "      Epoch    GPU_mem   box_loss   cls_loss   dfl_loss  Instances       Size\n",
            "      19/25      4.17G      1.203     0.5988     0.9755         93        640: 100% 556/556 [04:09<00:00,  2.23it/s]\n",
            "                 Class     Images  Instances      Box(P          R      mAP50  mAP50-95): 100% 43/43 [00:22<00:00,  1.90it/s]\n",
            "                   all       1366      11693      0.682      0.617       0.62      0.344\n",
            "\n",
            "      Epoch    GPU_mem   box_loss   cls_loss   dfl_loss  Instances       Size\n",
            "      20/25      4.14G      1.195      0.592     0.9718        101        640: 100% 556/556 [04:08<00:00,  2.23it/s]\n",
            "                 Class     Images  Instances      Box(P          R      mAP50  mAP50-95): 100% 43/43 [00:22<00:00,  1.93it/s]\n",
            "                   all       1366      11693      0.682      0.597       0.61       0.34\n",
            "\n",
            "      Epoch    GPU_mem   box_loss   cls_loss   dfl_loss  Instances       Size\n",
            "      21/25      4.03G      1.189     0.5876     0.9696         57        640: 100% 556/556 [04:08<00:00,  2.24it/s]\n",
            "                 Class     Images  Instances      Box(P          R      mAP50  mAP50-95): 100% 43/43 [00:21<00:00,  2.03it/s]\n",
            "                   all       1366      11693       0.64      0.582      0.611      0.341\n",
            "\n",
            "      Epoch    GPU_mem   box_loss   cls_loss   dfl_loss  Instances       Size\n",
            "      22/25      4.15G      1.186     0.5844     0.9677         77        640: 100% 556/556 [04:13<00:00,  2.19it/s]\n",
            "                 Class     Images  Instances      Box(P          R      mAP50  mAP50-95): 100% 43/43 [00:21<00:00,  1.99it/s]\n",
            "                   all       1366      11693      0.862      0.545      0.604      0.338\n",
            "\n",
            "      Epoch    GPU_mem   box_loss   cls_loss   dfl_loss  Instances       Size\n",
            "      23/25      4.17G      1.183     0.5809     0.9663        103        640: 100% 556/556 [04:11<00:00,  2.21it/s]\n",
            "                 Class     Images  Instances      Box(P          R      mAP50  mAP50-95): 100% 43/43 [00:21<00:00,  1.99it/s]\n",
            "                   all       1366      11693      0.707      0.569      0.614      0.343\n",
            "\n",
            "      Epoch    GPU_mem   box_loss   cls_loss   dfl_loss  Instances       Size\n",
            "      24/25      4.09G      1.176      0.576     0.9645        102        640: 100% 556/556 [04:13<00:00,  2.19it/s]\n",
            "                 Class     Images  Instances      Box(P          R      mAP50  mAP50-95): 100% 43/43 [00:21<00:00,  2.01it/s]\n",
            "                   all       1366      11693      0.707      0.558      0.612      0.341\n",
            "\n",
            "      Epoch    GPU_mem   box_loss   cls_loss   dfl_loss  Instances       Size\n",
            "      25/25      4.14G      1.174     0.5717     0.9626         78        640: 100% 556/556 [04:14<00:00,  2.19it/s]\n",
            "                 Class     Images  Instances      Box(P          R      mAP50  mAP50-95): 100% 43/43 [00:22<00:00,  1.89it/s]\n",
            "                   all       1366      11693      0.701       0.57       0.61      0.338\n",
            "\n",
            "25 epochs completed in 1.949 hours.\n",
            "Optimizer stripped from runs/detect/train/weights/last.pt, 22.6MB\n",
            "Optimizer stripped from runs/detect/train/weights/best.pt, 22.6MB\n",
            "\n",
            "Validating runs/detect/train/weights/best.pt...\n",
            "Ultralytics 8.3.69 🚀 Python-3.11.11 torch-2.5.1+cu121 CUDA:0 (Tesla T4, 15102MiB)\n",
            "Model summary (fused): 168 layers, 11,156,931 parameters, 0 gradients, 28.6 GFLOPs\n",
            "                 Class     Images  Instances      Box(P          R      mAP50  mAP50-95): 100% 43/43 [00:24<00:00,  1.73it/s]\n",
            "                   all       1366      11693      0.662      0.565      0.622       0.35\n",
            "                person       1206       5778      0.825       0.75      0.845      0.474\n",
            "               bicycle        338        470      0.692      0.474      0.553      0.226\n",
            "                   car       1292       5431      0.837      0.821      0.891      0.589\n",
            "                   dog         14         14      0.294      0.214      0.199      0.111\n",
            "Speed: 0.2ms preprocess, 3.8ms inference, 0.0ms loss, 2.7ms postprocess per image\n",
            "Results saved to \u001b[1mruns/detect/train\u001b[0m\n",
            "💡 Learn more at https://docs.ultralytics.com/modes/train\n"
          ]
        }
      ]
    },
    {
      "cell_type": "code",
      "source": [
        "!yolo task=detect mode=val model=runs/detect/train/weights/best.pt data=data.yaml"
      ],
      "metadata": {
        "colab": {
          "base_uri": "https://localhost:8080/"
        },
        "id": "vafoAhH_Kg_h",
        "outputId": "fe0ee2fb-e132-4417-a830-4f072f383738"
      },
      "execution_count": null,
      "outputs": [
        {
          "output_type": "stream",
          "name": "stdout",
          "text": [
            "Ultralytics 8.3.69 🚀 Python-3.11.11 torch-2.5.1+cu121 CUDA:0 (Tesla T4, 15102MiB)\n",
            "Model summary (fused): 168 layers, 11,156,931 parameters, 0 gradients, 28.6 GFLOPs\n",
            "\u001b[34m\u001b[1mval: \u001b[0mScanning /content/drive/MyDrive/FLIR-DATASET/val/labels.cache... 1366 images, 6 backgrounds, 0 corrupt: 100% 1366/1366 [00:00<?, ?it/s]\n",
            "\u001b[34m\u001b[1mval: \u001b[0mWARNING ⚠️ /content/drive/MyDrive/FLIR-DATASET/val/images/FLIR_09042.jpeg: 1 duplicate labels removed\n",
            "\u001b[34m\u001b[1mval: \u001b[0mWARNING ⚠️ /content/drive/MyDrive/FLIR-DATASET/val/images/FLIR_09055.jpeg: 1 duplicate labels removed\n",
            "\u001b[34m\u001b[1mval: \u001b[0mWARNING ⚠️ /content/drive/MyDrive/FLIR-DATASET/val/images/FLIR_09653.jpeg: 1 duplicate labels removed\n",
            "                 Class     Images  Instances      Box(P          R      mAP50  mAP50-95): 100% 86/86 [00:34<00:00,  2.51it/s]\n",
            "                   all       1366      11693      0.662      0.566      0.622       0.35\n",
            "                person       1206       5778      0.822      0.752      0.845      0.474\n",
            "               bicycle        338        470      0.696      0.477      0.555      0.226\n",
            "                   car       1292       5431      0.836      0.821      0.891      0.588\n",
            "                   dog         14         14      0.292      0.214      0.199      0.111\n",
            "Speed: 0.4ms preprocess, 7.2ms inference, 0.0ms loss, 2.2ms postprocess per image\n",
            "Results saved to \u001b[1mruns/detect/val\u001b[0m\n",
            "💡 Learn more at https://docs.ultralytics.com/modes/val\n"
          ]
        }
      ]
    },
    {
      "cell_type": "code",
      "source": [
        "!yolo task=detect mode=predict model=runs/detect/train/weights/best.pt conf=0.25 source=test"
      ],
      "metadata": {
        "colab": {
          "base_uri": "https://localhost:8080/"
        },
        "id": "cZd7DH_uK4Re",
        "outputId": "558e456c-9d6a-4911-c516-fe687cb824f8"
      },
      "execution_count": null,
      "outputs": [
        {
          "output_type": "stream",
          "name": "stdout",
          "text": [
            "Ultralytics 8.3.69 🚀 Python-3.11.11 torch-2.5.1+cu121 CUDA:0 (Tesla T4, 15102MiB)\n",
            "Model summary (fused): 168 layers, 11,156,931 parameters, 0 gradients, 28.6 GFLOPs\n",
            "\n",
            "image 1/5 /content/drive/MyDrive/FLIR-DATASET/test/FLIR_video_00647.jpeg: 512x640 1 car, 43.3ms\n",
            "image 2/5 /content/drive/MyDrive/FLIR-DATASET/test/FLIR_video_01888.jpeg: 512x640 4 persons, 2 bicycles, 4 cars, 13.3ms\n",
            "image 3/5 /content/drive/MyDrive/FLIR-DATASET/test/FLIR_video_03704.jpeg: 512x640 6 persons, 1 bicycle, 2 cars, 13.3ms\n",
            "image 4/5 /content/drive/MyDrive/FLIR-DATASET/test/FLIR_video_03933.jpeg: 512x640 3 persons, 2 cars, 13.3ms\n",
            "image 5/5 /content/drive/MyDrive/FLIR-DATASET/test/FLIR_video_04198.jpeg: 512x640 3 cars, 13.4ms\n",
            "Speed: 2.0ms preprocess, 19.3ms inference, 129.5ms postprocess per image at shape (1, 3, 512, 640)\n",
            "Results saved to \u001b[1mruns/detect/predict\u001b[0m\n",
            "💡 Learn more at https://docs.ultralytics.com/modes/predict\n"
          ]
        }
      ]
    },
    {
      "cell_type": "code",
      "source": [
        "import os\n",
        "import matplotlib.pyplot as plt\n",
        "from ultralytics import YOLO\n",
        "\n",
        "\n",
        "model = YOLO(\"/content/drive/MyDrive/FLIR-DATASET/runs/detect/train/weights/best.pt\")  # Path to your trained model\n",
        "\n",
        "\n",
        "image_folder = \"visualisation\"\n",
        "image_filenames = os.listdir(image_folder)\n",
        "\n",
        "\n",
        "human_images = []\n",
        "\n",
        "\n",
        "for image_name in image_filenames:\n",
        "    image_path = os.path.join(image_folder, image_name)\n",
        "\n",
        "\n",
        "    results = model(image_path, conf=0.25)\n",
        "\n",
        "\n",
        "    for result in results:\n",
        "        for box in result.boxes:\n",
        "            if int(box.cls[0]) == 0:\n",
        "                file_name = os.path.splitext(image_name)[0]\n",
        "                try:\n",
        "\n",
        "                    pair = tuple(map(float, file_name.strip(\"()\").split(\",\")))\n",
        "                    human_images.append(pair)\n",
        "                except ValueError:\n",
        "                    print(f\"Skipping invalid file name: {image_name}\")\n",
        "                break\n",
        "\n",
        "\n",
        "if human_images:\n",
        "    x_coords, y_coords = zip(*human_images)\n",
        "\n",
        "\n",
        "    plt.figure(figsize=(8, 6))\n",
        "    plt.scatter(x_coords, y_coords, color='red', marker='o', label=\"Human Detection\")\n",
        "\n",
        "\n",
        "    plt.xlabel(\"X Coordinate\")\n",
        "    plt.ylabel(\"Y Coordinate\")\n",
        "    plt.title(\"Human Detection Map\")\n",
        "    plt.legend()\n",
        "    plt.grid(True)\n",
        "\n",
        "\n",
        "    plt.show()\n",
        "else:\n",
        "    print(\"No humans detected.\")"
      ],
      "metadata": {
        "colab": {
          "base_uri": "https://localhost:8080/",
          "height": 1000
        },
        "id": "gN3w9vy7ZGNG",
        "outputId": "7ccea38f-fb6f-4464-ac87-1c07c60a2478"
      },
      "execution_count": null,
      "outputs": [
        {
          "output_type": "stream",
          "name": "stdout",
          "text": [
            "\n",
            "image 1/1 /content/drive/MyDrive/FLIR-DATASET/visualisation/(12.95,80.25).png: 512x640 2 persons, 703.7ms\n",
            "Speed: 19.3ms preprocess, 703.7ms inference, 31.7ms postprocess per image at shape (1, 3, 512, 640)\n",
            "\n",
            "image 1/1 /content/drive/MyDrive/FLIR-DATASET/visualisation/(13.00,80.20).jpeg: 512x640 5 cars, 497.8ms\n",
            "Speed: 2.3ms preprocess, 497.8ms inference, 4.8ms postprocess per image at shape (1, 3, 512, 640)\n",
            "\n",
            "image 1/1 /content/drive/MyDrive/FLIR-DATASET/visualisation/(13.10,30.20).png: 416x640 (no detections), 396.2ms\n",
            "Speed: 6.1ms preprocess, 396.2ms inference, 0.9ms postprocess per image at shape (1, 3, 416, 640)\n",
            "\n",
            "image 1/1 /content/drive/MyDrive/FLIR-DATASET/visualisation/(13.15,80.25).png: 448x640 1 person, 651.0ms\n",
            "Speed: 4.1ms preprocess, 651.0ms inference, 1.7ms postprocess per image at shape (1, 3, 448, 640)\n",
            "\n",
            "image 1/1 /content/drive/MyDrive/FLIR-DATASET/visualisation/(13.15,80.35).jpeg: 512x640 1 person, 3 cars, 743.6ms\n",
            "Speed: 3.1ms preprocess, 743.6ms inference, 2.1ms postprocess per image at shape (1, 3, 512, 640)\n",
            "\n",
            "image 1/1 /content/drive/MyDrive/FLIR-DATASET/visualisation/(13.05,80.15).png: 480x640 3 persons, 452.0ms\n",
            "Speed: 3.1ms preprocess, 452.0ms inference, 1.3ms postprocess per image at shape (1, 3, 480, 640)\n",
            "\n",
            "image 1/1 /content/drive/MyDrive/FLIR-DATASET/visualisation/(13.00,80.30).jpeg: 512x640 2 cars, 472.0ms\n",
            "Speed: 2.4ms preprocess, 472.0ms inference, 1.4ms postprocess per image at shape (1, 3, 512, 640)\n",
            "\n",
            "image 1/1 /content/drive/MyDrive/FLIR-DATASET/visualisation/(13.05,80.25).png: 544x640 (no detections), 506.8ms\n",
            "Speed: 3.1ms preprocess, 506.8ms inference, 1.0ms postprocess per image at shape (1, 3, 544, 640)\n",
            "\n",
            "image 1/1 /content/drive/MyDrive/FLIR-DATASET/visualisation/(13.10,80.30).png: 352x640 (no detections), 331.6ms\n",
            "Speed: 2.4ms preprocess, 331.6ms inference, 0.8ms postprocess per image at shape (1, 3, 352, 640)\n",
            "\n",
            "image 1/1 /content/drive/MyDrive/FLIR-DATASET/visualisation/(13.05,80.35).png: 544x640 2 persons, 475.3ms\n",
            "Speed: 3.3ms preprocess, 475.3ms inference, 1.3ms postprocess per image at shape (1, 3, 544, 640)\n"
          ]
        },
        {
          "output_type": "display_data",
          "data": {
            "text/plain": [
              "<Figure size 800x600 with 1 Axes>"
            ],
            "image/png": "[encoded data removed]"
          },
          "metadata": {}
        }
      ]
    },
    {
      "cell_type": "code",
      "source": [
        "import glob\n",
        "from IPython.display import Image, display\n",
        "\n",
        "for image_path in glob.glob('runs/detect/predict2/*.jpg')[:10]:\n",
        "      display(Image(filename=image_path, width=600))\n",
        "      print(\"\\n\")"
      ],
      "metadata": {
        "id": "pZa1gwBQaToR"
      },
      "execution_count": null,
      "outputs": []
    },
    {
      "cell_type": "code",
      "source": [
        "!yolo task=detect mode=predict model=runs/detect/train/weights/best.pt conf=0.25 source=visualisation"
      ],
      "metadata": {
        "colab": {
          "base_uri": "https://localhost:8080/"
        },
        "id": "DadUUTIya_xq",
        "outputId": "04394526-1826-49ad-89c8-012500ff488b"
      },
      "execution_count": null,
      "outputs": [
        {
          "output_type": "stream",
          "name": "stdout",
          "text": [
            "Ultralytics 8.3.70 🚀 Python-3.11.11 torch-2.5.1+cu124 CUDA:0 (Tesla T4, 15095MiB)\n",
            "Model summary (fused): 168 layers, 11,156,931 parameters, 0 gradients, 28.6 GFLOPs\n",
            "\n",
            "image 1/10 /content/drive/MyDrive/FLIR-DATASET/visualisation/(12.95,80.25).png: 512x640 2 persons, 61.6ms\n",
            "image 2/10 /content/drive/MyDrive/FLIR-DATASET/visualisation/(13.00,80.20).jpeg: 512x640 5 cars, 13.3ms\n",
            "image 3/10 /content/drive/MyDrive/FLIR-DATASET/visualisation/(13.00,80.30).jpeg: 512x640 2 cars, 13.3ms\n",
            "image 4/10 /content/drive/MyDrive/FLIR-DATASET/visualisation/(13.05,80.15).png: 480x640 3 persons, 64.1ms\n",
            "image 5/10 /content/drive/MyDrive/FLIR-DATASET/visualisation/(13.05,80.25).png: 544x640 (no detections), 61.7ms\n",
            "image 6/10 /content/drive/MyDrive/FLIR-DATASET/visualisation/(13.05,80.35).png: 544x640 2 persons, 15.8ms\n",
            "image 7/10 /content/drive/MyDrive/FLIR-DATASET/visualisation/(13.10,30.20).png: 416x640 (no detections), 60.4ms\n",
            "image 8/10 /content/drive/MyDrive/FLIR-DATASET/visualisation/(13.10,80.30).png: 352x640 (no detections), 64.5ms\n",
            "image 9/10 /content/drive/MyDrive/FLIR-DATASET/visualisation/(13.15,80.25).png: 448x640 1 person, 58.5ms\n",
            "image 10/10 /content/drive/MyDrive/FLIR-DATASET/visualisation/(13.15,80.35).jpeg: 512x640 1 person, 3 cars, 14.2ms\n",
            "Speed: 3.5ms preprocess, 42.7ms inference, 21.7ms postprocess per image at shape (1, 3, 512, 640)\n",
            "Results saved to \u001b[1mruns/detect/predict2\u001b[0m\n",
            "💡 Learn more at https://docs.ultralytics.com/modes/predict\n"
          ]
        }
      ]
    },
    {
      "cell_type": "code",
      "source": [
        "!yolo task=detect mode=predict model=runs/detect/train/weights/best.pt conf=0.25 source=pic1"
      ],
      "metadata": {
        "colab": {
          "base_uri": "https://localhost:8080/"
        },
        "id": "M0BSezIYOmPE",
        "outputId": "8f2f8ca3-3bc3-4dcc-c8f0-39191a8a1d98"
      },
      "execution_count": null,
      "outputs": [
        {
          "output_type": "stream",
          "name": "stdout",
          "text": [
            "Ultralytics 8.3.70 🚀 Python-3.11.11 torch-2.5.1+cu124 CUDA:0 (Tesla T4, 15095MiB)\n",
            "Model summary (fused): 168 layers, 11,156,931 parameters, 0 gradients, 28.6 GFLOPs\n",
            "\n",
            "image 1/1 /content/drive/MyDrive/FLIR-DATASET/pic1/samp1.jpg: 512x640 1 person, 65.6ms\n",
            "Speed: 20.7ms preprocess, 65.6ms inference, 430.9ms postprocess per image at shape (1, 3, 512, 640)\n",
            "Results saved to \u001b[1mruns/detect/predict3\u001b[0m\n",
            "💡 Learn more at https://docs.ultralytics.com/modes/predict\n"
          ]
        }
      ]
    },
    {
      "cell_type": "code",
      "source": [
        "!yolo task=detect mode=predict model=runs/detect/train/weights/best.pt conf=0.25 source=pic2"
      ],
      "metadata": {
        "colab": {
          "base_uri": "https://localhost:8080/"
        },
        "id": "JezM3hsXSBqE",
        "outputId": "956d4062-d0e3-492a-8b95-599abf0bb9ff"
      },
      "execution_count": null,
      "outputs": [
        {
          "output_type": "stream",
          "name": "stdout",
          "text": [
            "Ultralytics 8.3.70 🚀 Python-3.11.11 torch-2.5.1+cu124 CPU (Intel Xeon 2.20GHz)\n",
            "Model summary (fused): 168 layers, 11,156,931 parameters, 0 gradients, 28.6 GFLOPs\n",
            "\n",
            "image 1/1 /content/drive/MyDrive/FLIR-DATASET/pic2/Screenshot 2025-01-30 232158.png: 384x640 1 person, 1 car, 3 dogs, 416.3ms\n",
            "Speed: 3.7ms preprocess, 416.3ms inference, 6.2ms postprocess per image at shape (1, 3, 384, 640)\n",
            "Results saved to \u001b[1mruns/detect/predict4\u001b[0m\n",
            "💡 Learn more at https://docs.ultralytics.com/modes/predict\n"
          ]
        }
      ]
    },
    {
      "cell_type": "code",
      "source": [
        "!yolo task=detect mode=predict model=runs/detect/train/weights/best.pt conf=0.25 source=pic3"
      ],
      "metadata": {
        "colab": {
          "base_uri": "https://localhost:8080/"
        },
        "id": "V9hfjc1fXJQ-",
        "outputId": "2ad200a5-d392-4765-87ed-47a461be8023"
      },
      "execution_count": null,
      "outputs": [
        {
          "output_type": "stream",
          "name": "stdout",
          "text": [
            "Ultralytics 8.3.70 🚀 Python-3.11.11 torch-2.5.1+cu124 CPU (Intel Xeon 2.20GHz)\n",
            "Model summary (fused): 168 layers, 11,156,931 parameters, 0 gradients, 28.6 GFLOPs\n",
            "\n",
            "image 1/1 /content/drive/MyDrive/FLIR-DATASET/pic3/Screenshot 2025-01-30 232553.png: 384x640 2 persons, 428.3ms\n",
            "Speed: 4.4ms preprocess, 428.3ms inference, 1.7ms postprocess per image at shape (1, 3, 384, 640)\n",
            "Results saved to \u001b[1mruns/detect/predict5\u001b[0m\n",
            "💡 Learn more at https://docs.ultralytics.com/modes/predict\n"
          ]
        }
      ]
    },
    {
      "cell_type": "code",
      "source": [
        "!yolo task=detect mode=predict model=runs/detect/train/weights/best.pt conf=0.25 source=pic4"
      ],
      "metadata": {
        "colab": {
          "base_uri": "https://localhost:8080/"
        },
        "id": "wlEIQ70JYBid",
        "outputId": "87f56cbd-e36c-464d-b814-154978fbe637"
      },
      "execution_count": null,
      "outputs": [
        {
          "output_type": "stream",
          "name": "stdout",
          "text": [
            "Ultralytics 8.3.70 🚀 Python-3.11.11 torch-2.5.1+cu124 CPU (Intel Xeon 2.20GHz)\n",
            "Model summary (fused): 168 layers, 11,156,931 parameters, 0 gradients, 28.6 GFLOPs\n",
            "\n",
            "image 1/1 /content/drive/MyDrive/FLIR-DATASET/pic4/Screenshot 2025-01-30 233023.png: 384x640 8 persons, 679.7ms\n",
            "Speed: 4.1ms preprocess, 679.7ms inference, 2.4ms postprocess per image at shape (1, 3, 384, 640)\n",
            "Results saved to \u001b[1mruns/detect/predict6\u001b[0m\n",
            "💡 Learn more at https://docs.ultralytics.com/modes/predict\n"
          ]
        }
      ]
    },
    {
      "cell_type": "code",
      "source": [
        "!yolo task=detect mode=predict model=runs/detect/train/weights/best.pt conf=0.25 source=pic5"
      ],
      "metadata": {
        "colab": {
          "base_uri": "https://localhost:8080/"
        },
        "id": "Lg98L5IxYxrT",
        "outputId": "a0e09d2f-7184-48a3-9972-828f6d8ec628"
      },
      "execution_count": null,
      "outputs": [
        {
          "output_type": "stream",
          "name": "stdout",
          "text": [
            "Ultralytics 8.3.70 🚀 Python-3.11.11 torch-2.5.1+cu124 CPU (Intel Xeon 2.20GHz)\n",
            "Model summary (fused): 168 layers, 11,156,931 parameters, 0 gradients, 28.6 GFLOPs\n",
            "\n",
            "image 1/1 /content/drive/MyDrive/FLIR-DATASET/pic5/Screenshot 2025-01-30 233805.png: 544x640 3 persons, 949.8ms\n",
            "Speed: 4.5ms preprocess, 949.8ms inference, 2.3ms postprocess per image at shape (1, 3, 544, 640)\n",
            "Results saved to \u001b[1mruns/detect/predict7\u001b[0m\n",
            "💡 Learn more at https://docs.ultralytics.com/modes/predict\n"
          ]
        }
      ]
    },
    {
      "cell_type": "code",
      "source": [
        "!yolo task=detect mode=predict model=runs/detect/train/weights/best.pt conf=0.25 source=pic6"
      ],
      "metadata": {
        "colab": {
          "base_uri": "https://localhost:8080/"
        },
        "id": "CaSjp0pgahO2",
        "outputId": "9956feca-f238-4cdf-9cc4-eecc193a85e0"
      },
      "execution_count": null,
      "outputs": [
        {
          "output_type": "stream",
          "name": "stdout",
          "text": [
            "Ultralytics 8.3.70 🚀 Python-3.11.11 torch-2.5.1+cu124 CPU (Intel Xeon 2.20GHz)\n",
            "Model summary (fused): 168 layers, 11,156,931 parameters, 0 gradients, 28.6 GFLOPs\n",
            "\n",
            "image 1/1 /content/drive/MyDrive/FLIR-DATASET/pic6/Screenshot 2025-01-30 234619.png: 320x640 2 persons, 361.9ms\n",
            "Speed: 2.7ms preprocess, 361.9ms inference, 2.0ms postprocess per image at shape (1, 3, 320, 640)\n",
            "Results saved to \u001b[1mruns/detect/predict8\u001b[0m\n",
            "💡 Learn more at https://docs.ultralytics.com/modes/predict\n"
          ]
        }
      ]
    },
    {
      "cell_type": "code",
      "source": [
        "!yolo task=detect mode=predict model=runs/detect/train/weights/best.pt conf=0.25 source=pic7"
      ],
      "metadata": {
        "colab": {
          "base_uri": "https://localhost:8080/"
        },
        "id": "1kTN0Ul_c1L_",
        "outputId": "1ee608ba-bfe1-430d-d173-2f6ece3022e8"
      },
      "execution_count": null,
      "outputs": [
        {
          "output_type": "stream",
          "name": "stdout",
          "text": [
            "Ultralytics 8.3.70 🚀 Python-3.11.11 torch-2.5.1+cu124 CPU (Intel Xeon 2.20GHz)\n",
            "Model summary (fused): 168 layers, 11,156,931 parameters, 0 gradients, 28.6 GFLOPs\n",
            "\n",
            "image 1/1 /content/drive/MyDrive/FLIR-DATASET/pic7/Screenshot 2025-01-30 235121.png: 640x640 (no detections), 691.8ms\n",
            "Speed: 8.3ms preprocess, 691.8ms inference, 1.2ms postprocess per image at shape (1, 3, 640, 640)\n",
            "Results saved to \u001b[1mruns/detect/predict9\u001b[0m\n",
            "💡 Learn more at https://docs.ultralytics.com/modes/predict\n"
          ]
        }
      ]
    },
    {
      "cell_type": "code",
      "source": [
        "!yolo task=detect mode=predict model=runs/detect/train/weights/best.pt conf=0.25 source=pic8"
      ],
      "metadata": {
        "colab": {
          "base_uri": "https://localhost:8080/"
        },
        "id": "Bwb8k4MIeHCm",
        "outputId": "daa5a470-837f-4440-b874-b53dc8202d89"
      },
      "execution_count": null,
      "outputs": [
        {
          "output_type": "stream",
          "name": "stdout",
          "text": [
            "Ultralytics 8.3.70 🚀 Python-3.11.11 torch-2.5.1+cu124 CPU (Intel Xeon 2.20GHz)\n",
            "Model summary (fused): 168 layers, 11,156,931 parameters, 0 gradients, 28.6 GFLOPs\n",
            "\n",
            "image 1/1 /content/drive/MyDrive/FLIR-DATASET/pic8/Screenshot 2025-01-30 235637.png: 448x640 (no detections), 477.5ms\n",
            "Speed: 3.0ms preprocess, 477.5ms inference, 1.3ms postprocess per image at shape (1, 3, 448, 640)\n",
            "Results saved to \u001b[1mruns/detect/predict10\u001b[0m\n",
            "💡 Learn more at https://docs.ultralytics.com/modes/predict\n"
          ]
        }
      ]
    },
    {
      "cell_type": "code",
      "source": [
        "!yolo task=detect mode=predict model=runs/detect/train/weights/best.pt conf=0.25 source=pic9"
      ],
      "metadata": {
        "colab": {
          "base_uri": "https://localhost:8080/"
        },
        "id": "qHgagLiBfoEI",
        "outputId": "5fbea1a4-a9e0-412f-fbdf-4007a84d8671"
      },
      "execution_count": null,
      "outputs": [
        {
          "output_type": "stream",
          "name": "stdout",
          "text": [
            "Ultralytics 8.3.70 🚀 Python-3.11.11 torch-2.5.1+cu124 CPU (Intel Xeon 2.20GHz)\n",
            "Model summary (fused): 168 layers, 11,156,931 parameters, 0 gradients, 28.6 GFLOPs\n",
            "\n",
            "image 1/1 /content/drive/MyDrive/FLIR-DATASET/pic9/Screenshot 2025-01-31 000214.png: 352x640 (no detections), 372.4ms\n",
            "Speed: 4.3ms preprocess, 372.4ms inference, 1.1ms postprocess per image at shape (1, 3, 352, 640)\n",
            "Results saved to \u001b[1mruns/detect/predict11\u001b[0m\n",
            "💡 Learn more at https://docs.ultralytics.com/modes/predict\n"
          ]
        }
      ]
    },
    {
      "cell_type": "code",
      "source": [
        "import math\n",
        "import matplotlib.pyplot as plt\n",
        "from itertools import permutations\n",
        "\n",
        "points = human_images\n",
        "\n",
        "\n",
        "def calculate_distance(point1, point2):\n",
        "    return math.sqrt((point2[0] - point1[0])**2 + (point2[1] - point1[1])**2)\n",
        "\n",
        "\n",
        "def calculate_total_distance(path, points):\n",
        "    total_distance = 0\n",
        "    for i in range(len(path) - 1):\n",
        "        total_distance += calculate_distance(points[path[i]], points[path[i + 1]])\n",
        "    total_distance += calculate_distance(points[path[-1]], points[path[0]])\n",
        "    return total_distance\n",
        "\n",
        "def solve_tsp(points):\n",
        "    n = len(points)\n",
        "    all_permutations = permutations(range(n))\n",
        "\n",
        "    min_distance = float('inf')\n",
        "    best_path = None\n",
        "\n",
        "    for perm in all_permutations:\n",
        "        distance = calculate_total_distance(perm, points)\n",
        "        if distance < min_distance:\n",
        "            min_distance = distance\n",
        "            best_path = perm\n",
        "\n",
        "    return best_path, min_distance\n",
        "\n",
        "best_path, min_distance = solve_tsp(points)\n",
        "\n",
        "print(\"Best path:\", best_path)\n",
        "print(\"Minimum distance:\", min_distance)\n",
        "\n",
        "path_coords = [points[i] for i in best_path] + [points[best_path[0]]]  # Ensure loop closure\n",
        "x, y = zip(*path_coords)\n",
        "\n",
        "\n",
        "plt.scatter(*zip(*points), color='red', label='Points')\n",
        "\n",
        "\n",
        "plt.plot(x, y, marker='o', color='blue', linestyle='-', label='Optimal Path')\n",
        "\n",
        "\n",
        "for i, point in enumerate(points):\n",
        "    plt.text(point[0] + 0.002, point[1] + 0.002, f'P{i+1}', fontsize=12)\n",
        "\n",
        "\n",
        "plt.title('Traveling Salesman Problem - Optimal Path')\n",
        "plt.xlabel('Latitude')\n",
        "plt.ylabel('Longitude')\n",
        "plt.legend()\n",
        "plt.grid(True)\n",
        "plt.show()\n"
      ],
      "metadata": {
        "colab": {
          "base_uri": "https://localhost:8080/",
          "height": 507
        },
        "id": "EG5-pIciI4Cv",
        "outputId": "e660a724-7049-42c7-93c6-787465f68998"
      },
      "execution_count": null,
      "outputs": [
        {
          "output_type": "stream",
          "name": "stdout",
          "text": [
            "Best path: (0, 3, 1, 2, 4)\n",
            "Minimum distance: 0.6242640687119122\n"
          ]
        },
        {
          "output_type": "display_data",
          "data": {
            "text/plain": [
              "<Figure size 640x480 with 1 Axes>"
            ],
            "image/png": "[encoded data removed]"
          },
          "metadata": {}
        }
      ]
    },
    {
      "cell_type": "code",
      "source": [
        "!yolo task=detect mode=predict model=runs/detect/train/weights/best.pt conf=0.25 source=final"
      ],
      "metadata": {
        "colab": {
          "base_uri": "https://localhost:8080/"
        },
        "id": "oKW8MmdlIx0V",
        "outputId": "45cef191-63c3-44d2-ec6d-2f91675158c8"
      },
      "execution_count": null,
      "outputs": [
        {
          "output_type": "stream",
          "name": "stdout",
          "text": [
            "Ultralytics 8.3.70 🚀 Python-3.11.11 torch-2.5.1+cu124 CPU (Intel Xeon 2.20GHz)\n",
            "Model summary (fused): 168 layers, 11,156,931 parameters, 0 gradients, 28.6 GFLOPs\n",
            "\n",
            "image 1/1 /content/drive/MyDrive/FLIR-DATASET/final/samp1.jpg: 640x480 3 persons, 557.6ms\n",
            "Speed: 11.5ms preprocess, 557.6ms inference, 29.3ms postprocess per image at shape (1, 3, 640, 480)\n",
            "Results saved to \u001b[1mruns/detect/predict12\u001b[0m\n",
            "💡 Learn more at https://docs.ultralytics.com/modes/predict\n"
          ]
        }
      ]
    },
    {
      "cell_type": "code",
      "source": [
        "!yolo task=detect mode=predict model=runs/detect/train/weights/best.pt conf=0.25 source=fin"
      ],
      "metadata": {
        "colab": {
          "base_uri": "https://localhost:8080/"
        },
        "id": "kdsZUHUMLtKA",
        "outputId": "c5fde8a4-7363-401d-b144-f24d7bd85824"
      },
      "execution_count": null,
      "outputs": [
        {
          "output_type": "stream",
          "name": "stdout",
          "text": [
            "Ultralytics 8.3.70 🚀 Python-3.11.11 torch-2.5.1+cu124 CPU (Intel Xeon 2.20GHz)\n",
            "Model summary (fused): 168 layers, 11,156,931 parameters, 0 gradients, 28.6 GFLOPs\n",
            "\n",
            "image 1/1 /content/drive/MyDrive/FLIR-DATASET/fin/samp1-gray.jpg: 640x480 3 persons, 461.5ms\n",
            "Speed: 3.1ms preprocess, 461.5ms inference, 1.6ms postprocess per image at shape (1, 3, 640, 480)\n",
            "Results saved to \u001b[1mruns/detect/predict13\u001b[0m\n",
            "💡 Learn more at https://docs.ultralytics.com/modes/predict\n"
          ]
        }
      ]
    }
  ]
}